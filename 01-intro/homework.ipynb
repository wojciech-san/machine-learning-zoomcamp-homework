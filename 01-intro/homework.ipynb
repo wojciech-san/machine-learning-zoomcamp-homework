{
 "cells": [
  {
   "cell_type": "code",
   "execution_count": 2,
   "id": "6585fb50-794b-4a41-8d09-9de7157cdebf",
   "metadata": {},
   "outputs": [],
   "source": [
    "import pandas as pd"
   ]
  },
  {
   "cell_type": "markdown",
   "id": "a7e5b906",
   "metadata": {},
   "source": [
    "Set up the environment\n",
    "\n",
    "You need to install Python, NumPy, Pandas, Matplotlib and Seaborn. For that, you can use the instructions from 06-environment.md.\n",
    "\n",
    "#### Q1. Pandas version\n",
    "\n",
    "What's the version of Pandas that you installed?\n",
    "\n",
    "You can get the version information using the __version__ field:"
   ]
  },
  {
   "cell_type": "code",
   "execution_count": 8,
   "id": "d4c27377-2729-4f13-a47c-8db2721aaf21",
   "metadata": {},
   "outputs": [
    {
     "data": {
      "text/plain": [
       "'2.3.1'"
      ]
     },
     "execution_count": 8,
     "metadata": {},
     "output_type": "execute_result"
    }
   ],
   "source": [
    "pd.__version__"
   ]
  },
  {
   "cell_type": "markdown",
   "id": "c3af8627",
   "metadata": {},
   "source": [
    "Getting the data\n",
    "\n",
    "For this homework, we'll use the Car Fuel Efficiency dataset. Download it from here.\n",
    "\n",
    "You can do it with wget:\n",
    "\n",
    "wget https://raw.githubusercontent.com/alexeygrigorev/datasets/master/car_fuel_efficiency.csv\n",
    "\n",
    "#### Q2. Records count\n",
    "\n",
    "How many records are in the dataset?\n",
    "\n",
    "4704\n",
    "8704\n",
    "9704\n",
    "17704\n"
   ]
  },
  {
   "cell_type": "code",
   "execution_count": 7,
   "id": "0a681a44",
   "metadata": {},
   "outputs": [
    {
     "name": "stdout",
     "output_type": "stream",
     "text": [
      "<class 'pandas.core.frame.DataFrame'>\n",
      "RangeIndex: 9704 entries, 0 to 9703\n",
      "Data columns (total 11 columns):\n",
      " #   Column               Non-Null Count  Dtype  \n",
      "---  ------               --------------  -----  \n",
      " 0   engine_displacement  9704 non-null   int64  \n",
      " 1   num_cylinders        9222 non-null   float64\n",
      " 2   horsepower           8996 non-null   float64\n",
      " 3   vehicle_weight       9704 non-null   float64\n",
      " 4   acceleration         8774 non-null   float64\n",
      " 5   model_year           9704 non-null   int64  \n",
      " 6   origin               9704 non-null   object \n",
      " 7   fuel_type            9704 non-null   object \n",
      " 8   drivetrain           9704 non-null   object \n",
      " 9   num_doors            9202 non-null   float64\n",
      " 10  fuel_efficiency_mpg  9704 non-null   float64\n",
      "dtypes: float64(6), int64(2), object(3)\n",
      "memory usage: 834.1+ KB\n"
     ]
    }
   ],
   "source": [
    "df = pd.read_csv('https://raw.githubusercontent.com/alexeygrigorev/datasets/master/car_fuel_efficiency.csv')\n",
    "\n",
    "df.info()"
   ]
  },
  {
   "cell_type": "markdown",
   "id": "260f6412",
   "metadata": {},
   "source": [
    "#### Q3. Fuel types\n",
    "\n",
    "How many fuel types are presented in the dataset?\n",
    "\n",
    "1\n",
    "2\n",
    "3\n",
    "4"
   ]
  },
  {
   "cell_type": "code",
   "execution_count": 14,
   "id": "6a097895",
   "metadata": {},
   "outputs": [
    {
     "data": {
      "text/plain": [
       "2"
      ]
     },
     "execution_count": 14,
     "metadata": {},
     "output_type": "execute_result"
    }
   ],
   "source": [
    "df.fuel_type.nunique()"
   ]
  },
  {
   "cell_type": "markdown",
   "id": "7e979a8b",
   "metadata": {},
   "source": [
    "#### Q4. Missing values\n",
    "\n",
    "How many columns in the dataset have missing values?\n",
    "\n",
    "0\n",
    "1\n",
    "2\n",
    "3\n",
    "4"
   ]
  },
  {
   "cell_type": "code",
   "execution_count": 21,
   "id": "2310956b",
   "metadata": {},
   "outputs": [
    {
     "data": {
      "text/plain": [
       "num_cylinders    482\n",
       "horsepower       708\n",
       "acceleration     930\n",
       "num_doors        502\n",
       "dtype: int64"
      ]
     },
     "execution_count": 21,
     "metadata": {},
     "output_type": "execute_result"
    }
   ],
   "source": [
    "df.isnull().sum().loc[lambda x: x > 0]"
   ]
  },
  {
   "cell_type": "markdown",
   "id": "95254509",
   "metadata": {},
   "source": [
    "#### Q5. Max fuel efficiency\n",
    "\n",
    "What's the maximum fuel efficiency of cars from Asia?\n",
    "\n",
    "13.75\n",
    "23.75\n",
    "33.75\n",
    "43.75"
   ]
  },
  {
   "cell_type": "code",
   "execution_count": 25,
   "id": "f84faacb",
   "metadata": {},
   "outputs": [
    {
     "data": {
      "text/plain": [
       "np.float64(23.759122836520497)"
      ]
     },
     "execution_count": 25,
     "metadata": {},
     "output_type": "execute_result"
    }
   ],
   "source": [
    "df[df.origin=='Asia'].fuel_efficiency_mpg.max()"
   ]
  },
  {
   "cell_type": "markdown",
   "id": "5c131c86",
   "metadata": {},
   "source": [
    "#### Q6. Median value of horsepower\n",
    "\n",
    "Find the median value of horsepower column in the dataset.\n",
    "Next, calculate the most frequent value of the same horsepower column.\n",
    "Use fillna method to fill the missing values in horsepower column with the most frequent value from the previous step.\n",
    "Now, calculate the median value of horsepower once again.\n",
    "Has it changed?\n",
    "\n",
    "Yes, it increased\n",
    "Yes, it decreased\n",
    "No"
   ]
  },
  {
   "cell_type": "markdown",
   "id": "c413a341",
   "metadata": {},
   "source": []
  },
  {
   "cell_type": "code",
   "execution_count": 31,
   "id": "71e6a0cb",
   "metadata": {},
   "outputs": [
    {
     "name": "stdout",
     "output_type": "stream",
     "text": [
      "median_origin: 149.0, median_updated: 149.0\n",
      "No\n"
     ]
    }
   ],
   "source": [
    "median_origin = df.horsepower.median()\n",
    "\n",
    "mode_origin =  df.horsepower.mode()\n",
    "\n",
    "df.horsepower = df.horsepower.fillna(mode_origin)\n",
    "\n",
    "median_updated = df.horsepower.median()\n",
    "\n",
    "print(f'median_origin: {median_origin}, median_updated: {median_updated}')\n",
    "\n",
    "if median_origin>median_updated:\n",
    "    print(f'It decreased')\n",
    "elif median_updated == median_origin:\n",
    "    print('No')\n",
    "else:\n",
    "    print(f'It increased')"
   ]
  },
  {
   "cell_type": "markdown",
   "id": "e8d67167",
   "metadata": {},
   "source": [
    "#### Q7. Sum of weights\n",
    "\n",
    "Select all the cars from Asia  \n",
    "Select only columns vehicle_weight and model_year  \n",
    "Select the first 7 values  \n",
    "Get the underlying NumPy array. Let's call it X.  \n",
    "Compute matrix-matrix multiplication between the transpose of X and X. To get the transpose, use X.T. Let's call the result XTX.  \n",
    "Invert XTX.  \n",
    "Create an array y with values [1100, 1300, 800, 900, 1000, 1100, 1200].  \n",
    "Multiply the inverse of XTX with the transpose of X, and then multiply the result by y. Call the result w.  \n",
    "What's the sum of all the elements of the result?  "
   ]
  },
  {
   "cell_type": "markdown",
   "id": "02ecbb47",
   "metadata": {},
   "source": []
  },
  {
   "cell_type": "code",
   "execution_count": 36,
   "id": "936477b3",
   "metadata": {},
   "outputs": [],
   "source": [
    "first_seven = df[df.origin == 'Asia'][['vehicle_weight','model_year']].head(7)"
   ]
  },
  {
   "cell_type": "code",
   "execution_count": 59,
   "id": "5aa4ecaf",
   "metadata": {},
   "outputs": [
    {
     "data": {
      "text/plain": [
       "np.float64(0.5187709081074016)"
      ]
     },
     "execution_count": 59,
     "metadata": {},
     "output_type": "execute_result"
    }
   ],
   "source": [
    "import numpy as np\n",
    "\n",
    "X = np.array(first_seven)\n",
    "\n",
    "X_T = X.T\n",
    "\n",
    "XTX = X_T @ X\n",
    "\n",
    "XTX_inv = np.linalg.inv(XTX)\n",
    "\n",
    "y = np.array([1100, 1300, 800, 900, 1000, 1100, 1200])\n",
    "\n",
    "w = (XTX_inv @ X_T) @ y\n",
    "\n",
    "w.sum()"
   ]
  }
 ],
 "metadata": {
  "kernelspec": {
   "display_name": "Python 3",
   "language": "python",
   "name": "python3"
  },
  "language_info": {
   "codemirror_mode": {
    "name": "ipython",
    "version": 3
   },
   "file_extension": ".py",
   "mimetype": "text/x-python",
   "name": "python",
   "nbconvert_exporter": "python",
   "pygments_lexer": "ipython3",
   "version": "3.12.1"
  }
 },
 "nbformat": 4,
 "nbformat_minor": 5
}
