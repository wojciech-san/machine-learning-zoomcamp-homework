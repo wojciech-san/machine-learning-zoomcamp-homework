{
 "cells": [
  {
   "cell_type": "markdown",
   "id": "a7fac093",
   "metadata": {},
   "source": [
    "### Question 1"
   ]
  },
  {
   "cell_type": "code",
   "execution_count": 1,
   "id": "42ed9f8e",
   "metadata": {},
   "outputs": [
    {
     "name": "stdout",
     "output_type": "stream",
     "text": [
      "Collecting uv\n",
      "  Downloading uv-0.9.5-py3-none-manylinux_2_17_x86_64.manylinux2014_x86_64.whl.metadata (11 kB)\n",
      "Downloading uv-0.9.5-py3-none-manylinux_2_17_x86_64.manylinux2014_x86_64.whl (21.3 MB)\n",
      "\u001b[2K   \u001b[90m━━━━━━━━━━━━━━━━━━━━━━━━━━━━━━━━━━━━━━━━\u001b[0m \u001b[32m21.3/21.3 MB\u001b[0m \u001b[31m79.6 MB/s\u001b[0m  \u001b[33m0:00:00\u001b[0m6m0:00:01\u001b[0m\n",
      "\u001b[?25hInstalling collected packages: uv\n",
      "Successfully installed uv-0.9.5\n",
      "Note: you may need to restart the kernel to use updated packages.\n"
     ]
    }
   ],
   "source": [
    "pip install uv"
   ]
  },
  {
   "cell_type": "code",
   "execution_count": 1,
   "id": "4ecced6f",
   "metadata": {},
   "outputs": [
    {
     "name": "stdout",
     "output_type": "stream",
     "text": [
      "uv 0.9.5\n"
     ]
    },
    {
     "name": "stdout",
     "output_type": "stream",
     "text": [
      "Note: you may need to restart the kernel to use updated packages.\n"
     ]
    }
   ],
   "source": [
    "uv --version"
   ]
  },
  {
   "cell_type": "markdown",
   "id": "21b5ff3b",
   "metadata": {},
   "source": [
    "### Question 2"
   ]
  },
  {
   "cell_type": "markdown",
   "id": "50ad6df5",
   "metadata": {},
   "source": [
    "##### hash = \"sha256:b4fc2525eca2c69a59260f583c56a7557c6ccdf8deafdba6e060f94c1c59738e\""
   ]
  },
  {
   "cell_type": "markdown",
   "id": "d3909ed0",
   "metadata": {},
   "source": [
    "### Question 3"
   ]
  },
  {
   "cell_type": "markdown",
   "id": "802cb310",
   "metadata": {},
   "source": [
    "##### Predicted probability: 0.5336072702798061\n",
    "##### prepared predict.py file for running prediction"
   ]
  },
  {
   "cell_type": "markdown",
   "id": "9973e98a",
   "metadata": {},
   "source": [
    "### Question 4"
   ]
  },
  {
   "cell_type": "markdown",
   "id": "95cc008a",
   "metadata": {},
   "source": [
    "##### 'prediction': 0.5340417283801275\n",
    "##### created files : predict_api.py and test_request.py"
   ]
  },
  {
   "cell_type": "markdown",
   "id": "3d3b6097",
   "metadata": {},
   "source": [
    "### Question 5"
   ]
  },
  {
   "cell_type": "markdown",
   "id": "d6ba0705",
   "metadata": {},
   "source": [
    "### agrigorev/zoomcamp-model   2025          4a9ecc576ae9   7 days ago      121MB\n",
    "### after running docker images command"
   ]
  },
  {
   "cell_type": "markdown",
   "id": "3163b2a4",
   "metadata": {},
   "source": [
    "### Question 6"
   ]
  },
  {
   "cell_type": "markdown",
   "id": "4a1d79a4",
   "metadata": {},
   "source": [
    "##### {'prediction': 0.5340417283801275}\n",
    "\n",
    "after running app from docker I run test_request.py file to check predicion"
   ]
  },
  {
   "cell_type": "markdown",
   "id": "fea2d06e",
   "metadata": {},
   "source": []
  }
 ],
 "metadata": {
  "kernelspec": {
   "display_name": "Python 3",
   "language": "python",
   "name": "python3"
  },
  "language_info": {
   "codemirror_mode": {
    "name": "ipython",
    "version": 3
   },
   "file_extension": ".py",
   "mimetype": "text/x-python",
   "name": "python",
   "nbconvert_exporter": "python",
   "pygments_lexer": "ipython3",
   "version": "3.12.1"
  }
 },
 "nbformat": 4,
 "nbformat_minor": 5
}
